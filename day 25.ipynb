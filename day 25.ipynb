{
 "cells": [
  {
   "cell_type": "code",
   "execution_count": 17,
   "metadata": {},
   "outputs": [
    {
     "name": "stdout",
     "output_type": "stream",
     "text": [
      "file is created and data has written\n"
     ]
    }
   ],
   "source": [
    "#function to create a file and write to file\n",
    "def createfile(filename):\n",
    "    f =open(filename,'w') \n",
    "    for i in range(10):\n",
    "        f.write('hello world'  )\n",
    "    print(\"file is created and data has written\")\n",
    "    return\n",
    "createfile('file1.txt')"
   ]
  },
  {
   "cell_type": "code",
   "execution_count": 18,
   "metadata": {},
   "outputs": [
    {
     "name": "stdout",
     "output_type": "stream",
     "text": [
      "file is created and data has written\n"
     ]
    }
   ],
   "source": [
    "#function to create a file and write to file\n",
    "def append(filename):\n",
    "    f =open(filename,'a') \n",
    "    for i in range(10):\n",
    "        f.write('this is the line \\n' )\n",
    "    print(\"file is created and data has written\")\n",
    "    return\n",
    "append('file2.txt')"
   ]
  },
  {
   "cell_type": "code",
   "execution_count": 19,
   "metadata": {},
   "outputs": [
    {
     "name": "stdout",
     "output_type": "stream",
     "text": [
      "file is created and data has written\n"
     ]
    }
   ],
   "source": [
    "def append(filename):\n",
    "    f =open(filename,'a') \n",
    "    for i in range(10):\n",
    "        f.write(\"new line 1 \\n\" )\n",
    "        f.write(\"new line 2 \\n\" )\n",
    "    print(\"file is created and data has written\")\n",
    "    return\n",
    "append('file2.txt')"
   ]
  },
  {
   "cell_type": "code",
   "execution_count": 20,
   "metadata": {},
   "outputs": [
    {
     "name": "stdout",
     "output_type": "stream",
     "text": [
      "this is the linethis is the linethis is the linethis is the linethis is the linethis is the linethis is the linethis is the linethis is the linethis is the linethis is the linethis is the linethis is the linethis is the linethis is the linethis is the linethis is the linethis is the linethis is the linethis is the linenew line 1 \n",
      "new line 2 \n",
      "new line 1 \n",
      "new line 2 \n",
      "new line 1 \n",
      "new line 2 \n",
      "new line 1 \n",
      "new line 2 \n",
      "new line 1 \n",
      "new line 2 \n",
      "new line 1 \n",
      "new line 2 \n",
      "new line 1 \n",
      "new line 2 \n",
      "new line 1 \n",
      "new line 2 \n",
      "new line 1 \n",
      "new line 2 \n",
      "new line 1 \n",
      "new line 2 \n",
      "this is the line \n",
      "this is the line \n",
      "this is the line \n",
      "this is the line \n",
      "this is the line \n",
      "this is the line \n",
      "this is the line \n",
      "this is the line \n",
      "this is the line \n",
      "this is the line \n",
      "this is the line \n",
      "this is the line \n",
      "this is the line \n",
      "this is the line \n",
      "this is the line \n",
      "this is the line \n",
      "this is the line \n",
      "this is the line \n",
      "this is the line \n",
      "this is the line \n",
      "new line 1 \n",
      "new line 2 \n",
      "new line 1 \n",
      "new line 2 \n",
      "new line 1 \n",
      "new line 2 \n",
      "new line 1 \n",
      "new line 2 \n",
      "new line 1 \n",
      "new line 2 \n",
      "new line 1 \n",
      "new line 2 \n",
      "new line 1 \n",
      "new line 2 \n",
      "new line 1 \n",
      "new line 2 \n",
      "new line 1 \n",
      "new line 2 \n",
      "new line 1 \n",
      "new line 2 \n",
      "\n"
     ]
    }
   ],
   "source": [
    "#function to read file\n",
    "def readdata(filename):\n",
    "    f=open(filename,'r')\n",
    "    if f.mode=='r':\n",
    "        x=f.read()\n",
    "        print(x)\n",
    "    f.close()\n",
    "    return\n",
    "readdata('file2.txt')"
   ]
  },
  {
   "cell_type": "code",
   "execution_count": 21,
   "metadata": {},
   "outputs": [
    {
     "name": "stdout",
     "output_type": "stream",
     "text": [
      "hello worldhello worldhello worldhello worldhello worldhello worldhello worldhello worldhello worldhello world\n"
     ]
    }
   ],
   "source": [
    "readdata('file1.txt')"
   ]
  },
  {
   "cell_type": "code",
   "execution_count": null,
   "metadata": {},
   "outputs": [],
   "source": []
  }
 ],
 "metadata": {
  "kernelspec": {
   "display_name": "Python 3",
   "language": "python",
   "name": "python3"
  },
  "language_info": {
   "codemirror_mode": {
    "name": "ipython",
    "version": 3
   },
   "file_extension": ".py",
   "mimetype": "text/x-python",
   "name": "python",
   "nbconvert_exporter": "python",
   "pygments_lexer": "ipython3",
   "version": "3.8.5"
  }
 },
 "nbformat": 4,
 "nbformat_minor": 4
}
